{
 "cells": [
  {
   "cell_type": "code",
   "execution_count": 23,
   "id": "4f9da03f-95d1-41e9-8bc3-2b0c3be63cfa",
   "metadata": {},
   "outputs": [
    {
     "name": "stderr",
     "output_type": "stream",
     "text": [
      "Matplotlib is building the font cache; this may take a moment.\n"
     ]
    }
   ],
   "source": [
    "import pandas as pd\n",
    "import numpy as np\n",
    "import matplotlib.pyplot as plt\n",
    "import seaborn as sns"
   ]
  },
  {
   "cell_type": "code",
   "execution_count": 4,
   "id": "f17faa8e-22d3-44ff-9fee-c45a0eb11194",
   "metadata": {},
   "outputs": [],
   "source": [
    "df=pd.read_csv(r\"C:\\Users\\Hifedolapo\\Desktop\\supermarket\\supermarket_sales - Sheet1.csv\")\n"
   ]
  },
  {
   "cell_type": "code",
   "execution_count": 5,
   "id": "2761d5ce-da6f-439f-9529-ad6ed3b227a7",
   "metadata": {},
   "outputs": [
    {
     "data": {
      "text/html": [
       "<div>\n",
       "<style scoped>\n",
       "    .dataframe tbody tr th:only-of-type {\n",
       "        vertical-align: middle;\n",
       "    }\n",
       "\n",
       "    .dataframe tbody tr th {\n",
       "        vertical-align: top;\n",
       "    }\n",
       "\n",
       "    .dataframe thead th {\n",
       "        text-align: right;\n",
       "    }\n",
       "</style>\n",
       "<table border=\"1\" class=\"dataframe\">\n",
       "  <thead>\n",
       "    <tr style=\"text-align: right;\">\n",
       "      <th></th>\n",
       "      <th>Invoice ID</th>\n",
       "      <th>Branch</th>\n",
       "      <th>City</th>\n",
       "      <th>Customer type</th>\n",
       "      <th>Product line</th>\n",
       "      <th>Unit price</th>\n",
       "      <th>Quantity</th>\n",
       "      <th>Review Quantity</th>\n",
       "      <th>Check</th>\n",
       "      <th>Tax 5%</th>\n",
       "      <th>Total</th>\n",
       "      <th>Date</th>\n",
       "      <th>Time</th>\n",
       "      <th>Payment</th>\n",
       "      <th>cogs</th>\n",
       "      <th>gross margin percentage</th>\n",
       "      <th>gross income</th>\n",
       "      <th>Rating</th>\n",
       "    </tr>\n",
       "  </thead>\n",
       "  <tbody>\n",
       "    <tr>\n",
       "      <th>0</th>\n",
       "      <td>750-67-8428</td>\n",
       "      <td>R1C1</td>\n",
       "      <td>Yangon</td>\n",
       "      <td>Customer</td>\n",
       "      <td>Health and beauty</td>\n",
       "      <td>67.99</td>\n",
       "      <td>7.0</td>\n",
       "      <td>7</td>\n",
       "      <td>NaN</td>\n",
       "      <td>23.8%</td>\n",
       "      <td>$475.93</td>\n",
       "      <td>1/5/2019</td>\n",
       "      <td>1:08:00 PM</td>\n",
       "      <td>Ewallet</td>\n",
       "      <td>522.83</td>\n",
       "      <td>4.761905</td>\n",
       "      <td>26.1415</td>\n",
       "      <td>9.1</td>\n",
       "    </tr>\n",
       "    <tr>\n",
       "      <th>1</th>\n",
       "      <td>226-31-3081</td>\n",
       "      <td>C</td>\n",
       "      <td>Naypyitaw</td>\n",
       "      <td>Normal</td>\n",
       "      <td>Electronic \\naccessories</td>\n",
       "      <td>15.28</td>\n",
       "      <td>5.0</td>\n",
       "      <td>5</td>\n",
       "      <td>NaN</td>\n",
       "      <td>3.8%</td>\n",
       "      <td>$76.40</td>\n",
       "      <td>3/8/2019</td>\n",
       "      <td>10:29:00 AM</td>\n",
       "      <td>Cash</td>\n",
       "      <td>76.40</td>\n",
       "      <td>4.761905</td>\n",
       "      <td>3.8200</td>\n",
       "      <td>9.6</td>\n",
       "    </tr>\n",
       "    <tr>\n",
       "      <th>2</th>\n",
       "      <td>631-41-3108</td>\n",
       "      <td>A</td>\n",
       "      <td>Yangon</td>\n",
       "      <td>Normal</td>\n",
       "      <td>Home and lifestyle</td>\n",
       "      <td>46.33</td>\n",
       "      <td>7.0</td>\n",
       "      <td>7</td>\n",
       "      <td>NaN</td>\n",
       "      <td>16.2%</td>\n",
       "      <td>$324.31</td>\n",
       "      <td>3/3/2019</td>\n",
       "      <td>1:23:00 PM</td>\n",
       "      <td>Credit card</td>\n",
       "      <td>324.31</td>\n",
       "      <td>NaN</td>\n",
       "      <td>16.2155</td>\n",
       "      <td>7.4</td>\n",
       "    </tr>\n",
       "    <tr>\n",
       "      <th>3</th>\n",
       "      <td>123-19-1176</td>\n",
       "      <td>A</td>\n",
       "      <td>Yangon</td>\n",
       "      <td>Customer</td>\n",
       "      <td>Health and beauty</td>\n",
       "      <td>58.22</td>\n",
       "      <td>8.0</td>\n",
       "      <td>8</td>\n",
       "      <td>NaN</td>\n",
       "      <td>23.3%</td>\n",
       "      <td>$465.76</td>\n",
       "      <td>1/27/2019</td>\n",
       "      <td>8:33:00 PM</td>\n",
       "      <td>Ewallet</td>\n",
       "      <td>465.76</td>\n",
       "      <td>4.761905</td>\n",
       "      <td>23.2880</td>\n",
       "      <td>8.4</td>\n",
       "    </tr>\n",
       "    <tr>\n",
       "      <th>4</th>\n",
       "      <td>373-73-7910</td>\n",
       "      <td>A</td>\n",
       "      <td>Yangon</td>\n",
       "      <td>Normal</td>\n",
       "      <td>Sports and travel</td>\n",
       "      <td>86.31</td>\n",
       "      <td>7.0</td>\n",
       "      <td>7</td>\n",
       "      <td>NaN</td>\n",
       "      <td>30.2%</td>\n",
       "      <td>$604.17</td>\n",
       "      <td>2/8/2019</td>\n",
       "      <td>10:37:00 AM</td>\n",
       "      <td>Ewallet</td>\n",
       "      <td>604.17</td>\n",
       "      <td>4.761905</td>\n",
       "      <td>30.2085</td>\n",
       "      <td>5.3</td>\n",
       "    </tr>\n",
       "  </tbody>\n",
       "</table>\n",
       "</div>"
      ],
      "text/plain": [
       "    Invoice ID Branch       City Customer type              Product line  \\\n",
       "0  750-67-8428   R1C1     Yangon      Customer         Health and beauty   \n",
       "1  226-31-3081      C  Naypyitaw        Normal  Electronic \\naccessories   \n",
       "2  631-41-3108      A     Yangon        Normal        Home and lifestyle   \n",
       "3  123-19-1176      A     Yangon      Customer         Health and beauty   \n",
       "4  373-73-7910      A     Yangon        Normal         Sports and travel   \n",
       "\n",
       "   Unit price  Quantity Review Quantity  Check Tax 5%     Total        Date  \\\n",
       "0       67.99       7.0               7    NaN  23.8%   $475.93    1/5/2019   \n",
       "1       15.28       5.0               5    NaN   3.8%    $76.40    3/8/2019   \n",
       "2       46.33       7.0               7    NaN  16.2%   $324.31    3/3/2019   \n",
       "3       58.22       8.0               8    NaN  23.3%   $465.76   1/27/2019   \n",
       "4       86.31       7.0               7    NaN  30.2%   $604.17    2/8/2019   \n",
       "\n",
       "          Time      Payment    cogs  gross margin percentage  gross income  \\\n",
       "0   1:08:00 PM      Ewallet  522.83                 4.761905       26.1415   \n",
       "1  10:29:00 AM         Cash   76.40                 4.761905        3.8200   \n",
       "2   1:23:00 PM  Credit card  324.31                      NaN       16.2155   \n",
       "3   8:33:00 PM      Ewallet  465.76                 4.761905       23.2880   \n",
       "4  10:37:00 AM      Ewallet  604.17                 4.761905       30.2085   \n",
       "\n",
       "   Rating  \n",
       "0     9.1  \n",
       "1     9.6  \n",
       "2     7.4  \n",
       "3     8.4  \n",
       "4     5.3  "
      ]
     },
     "execution_count": 5,
     "metadata": {},
     "output_type": "execute_result"
    }
   ],
   "source": [
    "df.head()"
   ]
  },
  {
   "cell_type": "code",
   "execution_count": 6,
   "id": "fc019a34-2d5c-49e0-8456-be61a4272958",
   "metadata": {},
   "outputs": [
    {
     "data": {
      "text/html": [
       "<div>\n",
       "<style scoped>\n",
       "    .dataframe tbody tr th:only-of-type {\n",
       "        vertical-align: middle;\n",
       "    }\n",
       "\n",
       "    .dataframe tbody tr th {\n",
       "        vertical-align: top;\n",
       "    }\n",
       "\n",
       "    .dataframe thead th {\n",
       "        text-align: right;\n",
       "    }\n",
       "</style>\n",
       "<table border=\"1\" class=\"dataframe\">\n",
       "  <thead>\n",
       "    <tr style=\"text-align: right;\">\n",
       "      <th></th>\n",
       "      <th>Invoice ID</th>\n",
       "      <th>Branch</th>\n",
       "      <th>City</th>\n",
       "      <th>Customer type</th>\n",
       "      <th>Product line</th>\n",
       "      <th>Unit price</th>\n",
       "      <th>Quantity</th>\n",
       "      <th>Review Quantity</th>\n",
       "      <th>Check</th>\n",
       "      <th>Tax 5%</th>\n",
       "      <th>Total</th>\n",
       "      <th>Date</th>\n",
       "      <th>Time</th>\n",
       "      <th>Payment</th>\n",
       "      <th>cogs</th>\n",
       "      <th>gross margin percentage</th>\n",
       "      <th>gross income</th>\n",
       "      <th>Rating</th>\n",
       "    </tr>\n",
       "  </thead>\n",
       "  <tbody>\n",
       "    <tr>\n",
       "      <th>997</th>\n",
       "      <td>727-02-1313</td>\n",
       "      <td>A</td>\n",
       "      <td>Yangon</td>\n",
       "      <td>Customer</td>\n",
       "      <td>Food and beverages</td>\n",
       "      <td>31.84</td>\n",
       "      <td>1.0</td>\n",
       "      <td>1</td>\n",
       "      <td>NaN</td>\n",
       "      <td>1.6%</td>\n",
       "      <td>$31.84</td>\n",
       "      <td>2/9/2019</td>\n",
       "      <td>1:22:00 PM</td>\n",
       "      <td>Cash</td>\n",
       "      <td>31.84</td>\n",
       "      <td>4.761905</td>\n",
       "      <td>1.592</td>\n",
       "      <td>7.7</td>\n",
       "    </tr>\n",
       "    <tr>\n",
       "      <th>998</th>\n",
       "      <td>347-56-2442</td>\n",
       "      <td>A</td>\n",
       "      <td>Yangon</td>\n",
       "      <td>Normal</td>\n",
       "      <td>Home and lifestyle</td>\n",
       "      <td>65.82</td>\n",
       "      <td>1.0</td>\n",
       "      <td>1</td>\n",
       "      <td>NaN</td>\n",
       "      <td>3.3%</td>\n",
       "      <td>$65.82</td>\n",
       "      <td>2/22/2019</td>\n",
       "      <td>3:33:00 PM</td>\n",
       "      <td>Cash</td>\n",
       "      <td>65.82</td>\n",
       "      <td>4.761905</td>\n",
       "      <td>3.291</td>\n",
       "      <td>4.1</td>\n",
       "    </tr>\n",
       "    <tr>\n",
       "      <th>999</th>\n",
       "      <td>849-09-3807</td>\n",
       "      <td>A</td>\n",
       "      <td>Yangon</td>\n",
       "      <td>Customer</td>\n",
       "      <td>Fashion accessories</td>\n",
       "      <td>88.34</td>\n",
       "      <td>7.0</td>\n",
       "      <td>7</td>\n",
       "      <td>NaN</td>\n",
       "      <td>30.9%</td>\n",
       "      <td>$618.38</td>\n",
       "      <td>2/18/2019</td>\n",
       "      <td>1:28:00 PM</td>\n",
       "      <td>Cash</td>\n",
       "      <td>618.38</td>\n",
       "      <td>4.761905</td>\n",
       "      <td>30.919</td>\n",
       "      <td>6.6</td>\n",
       "    </tr>\n",
       "    <tr>\n",
       "      <th>1000</th>\n",
       "      <td>NaN</td>\n",
       "      <td>NaN</td>\n",
       "      <td>NaN</td>\n",
       "      <td>NaN</td>\n",
       "      <td>NaN</td>\n",
       "      <td>55665.43</td>\n",
       "      <td>NaN</td>\n",
       "      <td>NaN</td>\n",
       "      <td>NaN</td>\n",
       "      <td>NaN</td>\n",
       "      <td>$-</td>\n",
       "      <td>NaN</td>\n",
       "      <td>NaN</td>\n",
       "      <td>NaN</td>\n",
       "      <td>NaN</td>\n",
       "      <td>NaN</td>\n",
       "      <td>NaN</td>\n",
       "      <td>NaN</td>\n",
       "    </tr>\n",
       "    <tr>\n",
       "      <th>1001</th>\n",
       "      <td>NaN</td>\n",
       "      <td>NaN</td>\n",
       "      <td>NaN</td>\n",
       "      <td>NaN</td>\n",
       "      <td>NaN</td>\n",
       "      <td>NaN</td>\n",
       "      <td>NaN</td>\n",
       "      <td>R1C1</td>\n",
       "      <td>NaN</td>\n",
       "      <td>NaN</td>\n",
       "      <td>NaN</td>\n",
       "      <td>NaN</td>\n",
       "      <td>NaN</td>\n",
       "      <td>NaN</td>\n",
       "      <td>NaN</td>\n",
       "      <td>NaN</td>\n",
       "      <td>NaN</td>\n",
       "      <td>NaN</td>\n",
       "    </tr>\n",
       "  </tbody>\n",
       "</table>\n",
       "</div>"
      ],
      "text/plain": [
       "       Invoice ID Branch    City Customer type         Product line  \\\n",
       "997   727-02-1313      A  Yangon      Customer   Food and beverages   \n",
       "998   347-56-2442      A  Yangon        Normal   Home and lifestyle   \n",
       "999   849-09-3807      A  Yangon      Customer  Fashion accessories   \n",
       "1000          NaN    NaN     NaN           NaN                  NaN   \n",
       "1001          NaN    NaN     NaN           NaN                  NaN   \n",
       "\n",
       "      Unit price  Quantity Review Quantity  Check Tax 5%     Total   \\\n",
       "997        31.84       1.0               1    NaN   1.6%    $31.84    \n",
       "998        65.82       1.0               1    NaN   3.3%    $65.82    \n",
       "999        88.34       7.0               7    NaN  30.9%   $618.38    \n",
       "1000    55665.43       NaN             NaN    NaN    NaN      $-      \n",
       "1001         NaN       NaN            R1C1    NaN    NaN        NaN   \n",
       "\n",
       "           Date        Time Payment    cogs  gross margin percentage  \\\n",
       "997    2/9/2019  1:22:00 PM    Cash   31.84                 4.761905   \n",
       "998   2/22/2019  3:33:00 PM    Cash   65.82                 4.761905   \n",
       "999   2/18/2019  1:28:00 PM    Cash  618.38                 4.761905   \n",
       "1000        NaN         NaN     NaN     NaN                      NaN   \n",
       "1001        NaN         NaN     NaN     NaN                      NaN   \n",
       "\n",
       "      gross income  Rating  \n",
       "997          1.592     7.7  \n",
       "998          3.291     4.1  \n",
       "999         30.919     6.6  \n",
       "1000           NaN     NaN  \n",
       "1001           NaN     NaN  "
      ]
     },
     "execution_count": 6,
     "metadata": {},
     "output_type": "execute_result"
    }
   ],
   "source": [
    "df.tail()"
   ]
  },
  {
   "cell_type": "code",
   "execution_count": 7,
   "id": "b8be072a-1f56-4599-ba28-362b90d08652",
   "metadata": {},
   "outputs": [
    {
     "name": "stdout",
     "output_type": "stream",
     "text": [
      "<class 'pandas.core.frame.DataFrame'>\n",
      "RangeIndex: 1002 entries, 0 to 1001\n",
      "Data columns (total 18 columns):\n",
      " #   Column                   Non-Null Count  Dtype  \n",
      "---  ------                   --------------  -----  \n",
      " 0   Invoice ID               1000 non-null   object \n",
      " 1   Branch                   1000 non-null   object \n",
      " 2   City                     1000 non-null   object \n",
      " 3   Customer type            1000 non-null   object \n",
      " 4   Product line             1000 non-null   object \n",
      " 5   Unit price               1001 non-null   float64\n",
      " 6   Quantity                 1000 non-null   float64\n",
      " 7   Review Quantity          1001 non-null   object \n",
      " 8   Check                    0 non-null      float64\n",
      " 9   Tax 5%                   1000 non-null   object \n",
      " 10   Total                   1001 non-null   object \n",
      " 11  Date                     1000 non-null   object \n",
      " 12  Time                     1000 non-null   object \n",
      " 13  Payment                  1000 non-null   object \n",
      " 14  cogs                     1000 non-null   float64\n",
      " 15  gross margin percentage  998 non-null    float64\n",
      " 16  gross income             1000 non-null   float64\n",
      " 17  Rating                   1000 non-null   float64\n",
      "dtypes: float64(7), object(11)\n",
      "memory usage: 141.0+ KB\n"
     ]
    }
   ],
   "source": [
    "df.info()"
   ]
  },
  {
   "cell_type": "code",
   "execution_count": 8,
   "id": "116a5889-56f9-4bdf-a39c-8ea07e374403",
   "metadata": {},
   "outputs": [
    {
     "data": {
      "text/plain": [
       "Invoice ID                    2\n",
       "Branch                        2\n",
       "City                          2\n",
       "Customer type                 2\n",
       "Product line                  2\n",
       "Unit price                    1\n",
       "Quantity                      2\n",
       "Review Quantity               1\n",
       "Check                      1002\n",
       "Tax 5%                        2\n",
       " Total                        1\n",
       "Date                          2\n",
       "Time                          2\n",
       "Payment                       2\n",
       "cogs                          2\n",
       "gross margin percentage       4\n",
       "gross income                  2\n",
       "Rating                        2\n",
       "dtype: int64"
      ]
     },
     "execution_count": 8,
     "metadata": {},
     "output_type": "execute_result"
    }
   ],
   "source": [
    "df.isnull().sum()"
   ]
  },
  {
   "cell_type": "code",
   "execution_count": 9,
   "id": "bbfc3e00",
   "metadata": {},
   "outputs": [
    {
     "data": {
      "text/plain": [
       "0      NaN\n",
       "1      NaN\n",
       "2      NaN\n",
       "3      NaN\n",
       "4      NaN\n",
       "        ..\n",
       "997    NaN\n",
       "998    NaN\n",
       "999    NaN\n",
       "1000   NaN\n",
       "1001   NaN\n",
       "Name: Check, Length: 1002, dtype: float64"
      ]
     },
     "execution_count": 9,
     "metadata": {},
     "output_type": "execute_result"
    }
   ],
   "source": [
    "df[\"Check\"]"
   ]
  },
  {
   "cell_type": "code",
   "execution_count": 10,
   "id": "7fb8a4e6",
   "metadata": {},
   "outputs": [
    {
     "data": {
      "text/plain": [
       "5.51"
      ]
     },
     "execution_count": 10,
     "metadata": {},
     "output_type": "execute_result"
    }
   ],
   "source": [
    "df['Quantity'].mean()"
   ]
  },
  {
   "cell_type": "code",
   "execution_count": 11,
   "id": "3ebc7b05-071f-44cd-baad-6012f82c3044",
   "metadata": {},
   "outputs": [],
   "source": [
    "df['Quantity']= df['Quantity'].fillna(df['Quantity'].mean())\n"
   ]
  },
  {
   "cell_type": "code",
   "execution_count": 12,
   "id": "dc0f1efa",
   "metadata": {},
   "outputs": [
    {
     "data": {
      "text/plain": [
       "array([ 7.  ,  5.  ,  8.  ,  6.  , 10.  ,  2.  ,  3.  ,  4.  ,  1.  ,\n",
       "        9.  ,  5.51])"
      ]
     },
     "execution_count": 12,
     "metadata": {},
     "output_type": "execute_result"
    }
   ],
   "source": [
    "df[\"Quantity\"].unique()"
   ]
  },
  {
   "cell_type": "code",
   "execution_count": 13,
   "id": "505738d7-b1f2-4f78-a766-d8e67c680a03",
   "metadata": {},
   "outputs": [
    {
     "data": {
      "text/plain": [
       "Invoice ID                    2\n",
       "Branch                        2\n",
       "City                          2\n",
       "Customer type                 2\n",
       "Product line                  2\n",
       "Unit price                    1\n",
       "Quantity                      0\n",
       "Review Quantity               1\n",
       "Check                      1002\n",
       "Tax 5%                        2\n",
       " Total                        1\n",
       "Date                          2\n",
       "Time                          2\n",
       "Payment                       2\n",
       "cogs                          2\n",
       "gross margin percentage       4\n",
       "gross income                  2\n",
       "Rating                        2\n",
       "dtype: int64"
      ]
     },
     "execution_count": 13,
     "metadata": {},
     "output_type": "execute_result"
    }
   ],
   "source": [
    "\n",
    "df.isnull().sum()"
   ]
  },
  {
   "cell_type": "code",
   "execution_count": 16,
   "id": "307d7873-909c-4da0-ba59-a99e663305b1",
   "metadata": {},
   "outputs": [
    {
     "data": {
      "text/html": [
       "<div>\n",
       "<style scoped>\n",
       "    .dataframe tbody tr th:only-of-type {\n",
       "        vertical-align: middle;\n",
       "    }\n",
       "\n",
       "    .dataframe tbody tr th {\n",
       "        vertical-align: top;\n",
       "    }\n",
       "\n",
       "    .dataframe thead th {\n",
       "        text-align: right;\n",
       "    }\n",
       "</style>\n",
       "<table border=\"1\" class=\"dataframe\">\n",
       "  <thead>\n",
       "    <tr style=\"text-align: right;\">\n",
       "      <th></th>\n",
       "      <th>Unit price</th>\n",
       "      <th>Quantity</th>\n",
       "      <th>Check</th>\n",
       "      <th>cogs</th>\n",
       "      <th>gross margin percentage</th>\n",
       "      <th>gross income</th>\n",
       "      <th>Rating</th>\n",
       "    </tr>\n",
       "  </thead>\n",
       "  <tbody>\n",
       "    <tr>\n",
       "      <th>count</th>\n",
       "      <td>1001.00000</td>\n",
       "      <td>1002.000000</td>\n",
       "      <td>0.0</td>\n",
       "      <td>1000.00000</td>\n",
       "      <td>9.980000e+02</td>\n",
       "      <td>1000.000000</td>\n",
       "      <td>1000.00000</td>\n",
       "    </tr>\n",
       "    <tr>\n",
       "      <th>mean</th>\n",
       "      <td>111.21964</td>\n",
       "      <td>5.510000</td>\n",
       "      <td>NaN</td>\n",
       "      <td>307.58738</td>\n",
       "      <td>4.761905e+00</td>\n",
       "      <td>15.379369</td>\n",
       "      <td>6.97270</td>\n",
       "    </tr>\n",
       "    <tr>\n",
       "      <th>std</th>\n",
       "      <td>1757.85597</td>\n",
       "      <td>2.920509</td>\n",
       "      <td>NaN</td>\n",
       "      <td>234.17651</td>\n",
       "      <td>6.131504e-14</td>\n",
       "      <td>11.708825</td>\n",
       "      <td>1.71858</td>\n",
       "    </tr>\n",
       "    <tr>\n",
       "      <th>min</th>\n",
       "      <td>10.08000</td>\n",
       "      <td>1.000000</td>\n",
       "      <td>NaN</td>\n",
       "      <td>10.17000</td>\n",
       "      <td>4.761905e+00</td>\n",
       "      <td>0.508500</td>\n",
       "      <td>4.00000</td>\n",
       "    </tr>\n",
       "    <tr>\n",
       "      <th>25%</th>\n",
       "      <td>32.90000</td>\n",
       "      <td>3.000000</td>\n",
       "      <td>NaN</td>\n",
       "      <td>118.49750</td>\n",
       "      <td>4.761905e+00</td>\n",
       "      <td>5.924875</td>\n",
       "      <td>5.50000</td>\n",
       "    </tr>\n",
       "    <tr>\n",
       "      <th>50%</th>\n",
       "      <td>55.39000</td>\n",
       "      <td>5.000000</td>\n",
       "      <td>NaN</td>\n",
       "      <td>241.76000</td>\n",
       "      <td>4.761905e+00</td>\n",
       "      <td>12.088000</td>\n",
       "      <td>7.00000</td>\n",
       "    </tr>\n",
       "    <tr>\n",
       "      <th>75%</th>\n",
       "      <td>77.95000</td>\n",
       "      <td>8.000000</td>\n",
       "      <td>NaN</td>\n",
       "      <td>448.90500</td>\n",
       "      <td>4.761905e+00</td>\n",
       "      <td>22.445250</td>\n",
       "      <td>8.50000</td>\n",
       "    </tr>\n",
       "    <tr>\n",
       "      <th>max</th>\n",
       "      <td>55665.43000</td>\n",
       "      <td>10.000000</td>\n",
       "      <td>NaN</td>\n",
       "      <td>993.00000</td>\n",
       "      <td>4.761905e+00</td>\n",
       "      <td>49.650000</td>\n",
       "      <td>10.00000</td>\n",
       "    </tr>\n",
       "  </tbody>\n",
       "</table>\n",
       "</div>"
      ],
      "text/plain": [
       "        Unit price     Quantity  Check        cogs  gross margin percentage  \\\n",
       "count   1001.00000  1002.000000    0.0  1000.00000             9.980000e+02   \n",
       "mean     111.21964     5.510000    NaN   307.58738             4.761905e+00   \n",
       "std     1757.85597     2.920509    NaN   234.17651             6.131504e-14   \n",
       "min       10.08000     1.000000    NaN    10.17000             4.761905e+00   \n",
       "25%       32.90000     3.000000    NaN   118.49750             4.761905e+00   \n",
       "50%       55.39000     5.000000    NaN   241.76000             4.761905e+00   \n",
       "75%       77.95000     8.000000    NaN   448.90500             4.761905e+00   \n",
       "max    55665.43000    10.000000    NaN   993.00000             4.761905e+00   \n",
       "\n",
       "       gross income      Rating  \n",
       "count   1000.000000  1000.00000  \n",
       "mean      15.379369     6.97270  \n",
       "std       11.708825     1.71858  \n",
       "min        0.508500     4.00000  \n",
       "25%        5.924875     5.50000  \n",
       "50%       12.088000     7.00000  \n",
       "75%       22.445250     8.50000  \n",
       "max       49.650000    10.00000  "
      ]
     },
     "execution_count": 16,
     "metadata": {},
     "output_type": "execute_result"
    }
   ],
   "source": [
    "df.describe()"
   ]
  },
  {
   "cell_type": "markdown",
   "id": "56ea83e8-8b11-4267-ad17-b89cbc823db3",
   "metadata": {},
   "source": [
    "### Solutions to questions"
   ]
  },
  {
   "cell_type": "code",
   "execution_count": 15,
   "id": "7ec58dc1-83cb-4874-8e98-9ba0b639972c",
   "metadata": {},
   "outputs": [
    {
     "data": {
      "text/plain": [
       "Product line\n",
       "Electronic \\naccessories    15.280000\n",
       "Electronic accessories      53.778047\n",
       "Fashion accessories         57.153652\n",
       "Food and beverages          56.008851\n",
       "Health and beauty           54.810395\n",
       "Home and lifestyle          55.316937\n",
       "Sports and travel           56.993253\n",
       "Name: Unit price, dtype: float64"
      ]
     },
     "execution_count": 15,
     "metadata": {},
     "output_type": "execute_result"
    }
   ],
   "source": [
    "average_price = df.groupby('Product line')['Unit price'].mean()\n",
    "average_price"
   ]
  },
  {
   "cell_type": "code",
   "execution_count": 18,
   "id": "dd4b18d8",
   "metadata": {},
   "outputs": [
    {
     "data": {
      "text/plain": [
       "Index(['Invoice ID', 'Branch', 'City', 'Customer type', 'Product line',\n",
       "       'Unit price', 'Quantity', 'Review Quantity', 'Check', 'Tax 5%',\n",
       "       ' Total ', 'Date', 'Time', 'Payment', 'cogs', 'gross margin percentage',\n",
       "       'gross income', 'Rating'],\n",
       "      dtype='object')"
      ]
     },
     "execution_count": 18,
     "metadata": {},
     "output_type": "execute_result"
    }
   ],
   "source": [
    "df.columns"
   ]
  },
  {
   "cell_type": "code",
   "execution_count": 19,
   "id": "89c85043-f253-4774-b77f-b09832a7beec",
   "metadata": {},
   "outputs": [
    {
     "data": {
      "text/plain": [
       "Product line\n",
       "Electronic \\naccessories                                              $76.40 \n",
       "Sports and travel            $604.17  $562.32  $435.66  $265.89  $702.63  ...\n",
       "Electronic accessories       $597.73  $413.04  $102.04  $234.75  $430.20  ...\n",
       "Fashion accessories          $57.92  $33.52  $175.34  $470.65  $826.30  $7...\n",
       "Health and beauty            $475.93  $465.76  $72.52  $713.80  $482.51  $...\n",
       "Home and lifestyle           $324.31  $735.60  $80.60  $66.40  $420.72  $2...\n",
       "Food and beverages           $164.52  $431.90  $164.01  $441.80  $397.68  ...\n",
       "Name:  Total , dtype: object"
      ]
     },
     "execution_count": 19,
     "metadata": {},
     "output_type": "execute_result"
    }
   ],
   "source": [
    "product_revenue = df.groupby('Product line')[ ' Total '].sum().sort_values(ascending=False)\n",
    "product_revenue"
   ]
  },
  {
   "cell_type": "code",
   "execution_count": 20,
   "id": "1a2fc00b-039c-4b25-9b98-b84dd49136ce",
   "metadata": {},
   "outputs": [
    {
     "data": {
      "text/plain": [
       "Payment\n",
       "Ewallet        345\n",
       "Cash           344\n",
       "Credit card    311\n",
       "Name: count, dtype: int64"
      ]
     },
     "execution_count": 20,
     "metadata": {},
     "output_type": "execute_result"
    }
   ],
   "source": [
    "payment_method_count = df['Payment'].value_counts()\n",
    "payment_method_count"
   ]
  },
  {
   "cell_type": "code",
   "execution_count": 22,
   "id": "b4b3c719",
   "metadata": {},
   "outputs": [
    {
     "data": {
      "text/plain": [
       "Branch\n",
       "A       7.020944\n",
       "B       6.818072\n",
       "C       7.072866\n",
       "R1C1    9.100000\n",
       "Name: Rating, dtype: float64"
      ]
     },
     "execution_count": 22,
     "metadata": {},
     "output_type": "execute_result"
    }
   ],
   "source": [
    "branch_ratings = df.groupby('Branch')['Rating'].mean()\n",
    "branch_ratings"
   ]
  },
  {
   "cell_type": "code",
   "execution_count": 24,
   "id": "04011cff",
   "metadata": {},
   "outputs": [
    {
     "data": {
      "image/png": "[encoded data removed]",
      "text/plain": [
       "<Figure size 800x600 with 1 Axes>"
      ]
     },
     "metadata": {},
     "output_type": "display_data"
    }
   ],
   "source": [
    "payment_counts = {'Ewallet': 345, 'Cash': 344, 'Credit card': 311}\n",
    "plt.figure(figsize=(8, 6))\n",
    "plt.bar(payment_counts.keys(), payment_counts.values(), color=['skyblue', 'lightgreen', 'salmon'])\n",
    "plt.title('Count of Payment Methods', fontsize=16)\n",
    "plt.xlabel('Payment Method', fontsize=12)\n",
    "plt.ylabel('Count', fontsize=12)\n",
    "plt.show()"
   ]
  },
  {
   "cell_type": "code",
   "execution_count": null,
   "id": "8b37fa38",
   "metadata": {},
   "outputs": [],
   "source": []
  }
 ],
 "metadata": {
  "kernelspec": {
   "display_name": "base",
   "language": "python",
   "name": "python3"
  },
  "language_info": {
   "codemirror_mode": {
    "name": "ipython",
    "version": 3
   },
   "file_extension": ".py",
   "mimetype": "text/x-python",
   "name": "python",
   "nbconvert_exporter": "python",
   "pygments_lexer": "ipython3",
   "version": "3.12.4"
  }
 },
 "nbformat": 4,
 "nbformat_minor": 5
}
